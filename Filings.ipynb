{
 "cells": [
  {
   "cell_type": "markdown",
   "id": "145ced49-f84f-4e4e-a024-1c81539b656b",
   "metadata": {},
   "source": [
    "# Using AI modeling to interpret 10-Q filings\n",
    "As outlined within Investopedia's, [Stock Analysis: Forecasting Revenue and Growth](https://www.investopedia.com/articles/active-trading/022315/stock-analysis-forecasting-revenue-and-growth.asp#:~:text=Analysts%E2%80%99%20forecasts%20are%20crucial%20to%20setting%20expected%20stock,buy%20or%20sell%20a%20stock%20cannot%20be%20made.),  <em>Making forward projections requires numerous inputs; some come from quantitative data and others are more subjective. The reliability and accuracy of the data drive the forecasts</em>.  Much of this information that determines projections, is available within company reports.  While its true that analysts projections are largely driven based on reported metrics, subjective predictions are a result of many factors, including the language and reporting done within company filings reports.\n",
    "\n",
    "While it is critical to factor all inputs when making forward projections, is it possible to find any correlation with projections based on the interpretation of language within company reports?  By utilizing intelligent models that have been trained on financial data, I will investigate the question of whether the interpretation of financial text can provide any indication of the direction of a given company's outlook.\n",
    "\n",
    "## Strategic Approach\n",
    "By utilizing [AI modeling](https://developers.refinitiv.com/en/use-cases-catalog/ai-pipeline), there are a multitude of approaches when formulating a strategy to analyze data with the ability to predict a specific outcome.  A typical analysis will go through a well-defined set of phases from inception and implementation to deployment and continuous improvement. It is an iterative process that can involve several cycles before the solution converges to a finalised pipeline infrastructure. While this process may lead to more focused predictions, it typically involves a greater investment in time and effort.  Instead, I intentionally plan to utilize existing AI models that allow me to investigate if any correlation can be determined without a huge investment.\n",
    "\n",
    "Using a company's 10-Q - a comprehensive report of the performance that includes relevant information about its financial position - I intend to to perform an analysis of the Management Section defined in each report using the [Forward Looking Statements](https://www.investopedia.com/terms/f/forward-looking.asp#:~:text=%22Forward%20looking%22%20is%20a%20business%20term%20used%20to,to%20buy%20or%20sell%20positions%20in%20the%20company) pre-trained [model](https://huggingface.co/FinanceInc/finbert_fls).  The model was specifically designed to analyze sentences from the *Management Discussion and Analysis* section of annual reports to determine if the text is classified as a Forward Looking Statement. Identifying forward-looking statements from corporate reports can assist investors in financial analysis.\n",
    "\n",
    "## Getting Started\n",
    "To setup our analysis, a number of helper modules and packages are defined below that allow me to extract Filings data, capture financial data, manipulate financial text and measure predictions.  To facilitate the ML (Machine Learning) processing, I plan to utilize analysis components available within [Hugging Face](https://huggingface.co/docs/transformers/model_doc/bert) - a popular data science platform to enable the community to build, train and deploy ML models.  In addition, I will employ [Refinitiv's Filings Service](https://developers.refinitiv.com/en/api-catalog/refinitiv-data-platform/filings-API) as the mechanism to query and access text within company 10-Q reporting and use the [Refinitiv Data Library for Python](https://developers.refinitiv.com/en/api-catalog/refinitiv-data-platform/refinitiv-data-library-for-python) as the means to access this service."
   ]
  },
  {
   "cell_type": "code",
   "execution_count": 2,
   "id": "524de671-a1f3-48d8-bb31-558503184400",
   "metadata": {},
   "outputs": [],
   "source": [
    "# NLP package used to aid in text manipulation\n",
    "import nltk\n",
    "from nltk.tokenize import word_tokenize, sent_tokenize\n",
    "\n",
    "# Machine Learning modules used to prepare and measure text\n",
    "from transformers import AutoTokenizer, AutoModelForSequenceClassification\n",
    "from transformers import BertTokenizer, BertForSequenceClassification, pipeline\n",
    "import torch\n",
    "\n",
    "# HTML text processing\n",
    "from bs4 import BeautifulSoup\n",
    "\n",
    "# Helper modules\n",
    "import matplotlib.pyplot as plt\n",
    "from tqdm.notebook import trange  # Progress bar\n",
    "\n",
    "# Refinitiv packages to extract filings data and retrieve price data\n",
    "import refinitiv.data as rd\n",
    "from refinitiv.data.content import filings\n",
    "\n",
    "# Convenient modules to simplify API access to Filings\n",
    "%run ./FilingsQuery.ipynb\n",
    "%run ./SymbolLookup.ipynb\n",
    "pd.set_option('display.max_colwidth', 60)"
   ]
  },
  {
   "cell_type": "code",
   "execution_count": 3,
   "id": "1dbce054-0399-48df-8163-6e08799247e8",
   "metadata": {},
   "outputs": [
    {
     "data": {
      "text/plain": [
       "'1.0.0b27'"
      ]
     },
     "execution_count": 3,
     "metadata": {},
     "output_type": "execute_result"
    }
   ],
   "source": [
    "rd.__version__"
   ]
  },
  {
   "cell_type": "code",
   "execution_count": 4,
   "id": "4e95dc90-a02e-4fa3-89e4-def027647407",
   "metadata": {
    "pycharm": {
     "name": "#%%\n"
    }
   },
   "outputs": [
    {
     "data": {
      "text/plain": [
       "<refinitiv.data.session.Definition object at 0x1c0067df790 {name='rdp'}>"
      ]
     },
     "execution_count": 4,
     "metadata": {},
     "output_type": "execute_result"
    }
   ],
   "source": [
    "# Open a session to retrieve Filings data from RDP\n",
    "rd.open_session()"
   ]
  },
  {
   "cell_type": "markdown",
   "id": "2b05f38c-5ce8-472e-bc06-183f49f8975b",
   "metadata": {},
   "source": [
    "### ML modules\n",
    "For the analysis presented here, I plan to utilize the following pre-trained ML models:\n",
    "* [Finbert FLS](https://huggingface.co/FinanceInc/finbert_fls)\n",
    "\n",
    " A FinBERT model fine-tuned on 3,500 manually annotated sentences from the *Management Discussion and Analysis* section of annual reports of Russell 3000 firms. The model is designed to detect *Forward-looking statements* (FLS) that typically indicate beliefs and opinions about firm's future events or results.\n",
    " \n",
    "* [Finbert Sentiment](https://huggingface.co/ProsusAI/finbert)\n",
    "\n",
    " A FinBERT Natural Language Processing (NLP) component to analyze sentiment of financial text. It is built by further training the BERT language model in the finance domain, using a large financial corpus and thereby fine-tuning it for financial sentiment classification.  The goal here is to determine if there is anything indicative when measuring sentiment for the FLS statements within the Filings discussion text."
   ]
  },
  {
   "cell_type": "code",
   "execution_count": 5,
   "id": "d54b0d30-8183-48c7-ba46-4742765f4fa9",
   "metadata": {},
   "outputs": [
    {
     "data": {
      "application/vnd.jupyter.widget-view+json": {
       "model_id": "2395deebf53843a097f8c8c5b116c4d9",
       "version_major": 2,
       "version_minor": 0
      },
      "text/plain": [
       "Downloading:   0%|          | 0.00/761 [00:00<?, ?B/s]"
      ]
     },
     "metadata": {},
     "output_type": "display_data"
    },
    {
     "data": {
      "application/vnd.jupyter.widget-view+json": {
       "model_id": "9c3cd0f1cdfe47b38d8e5f2f4c5d2255",
       "version_major": 2,
       "version_minor": 0
      },
      "text/plain": [
       "Downloading:   0%|          | 0.00/439M [00:00<?, ?B/s]"
      ]
     },
     "metadata": {},
     "output_type": "display_data"
    }
   ],
   "source": [
    "# Load the models\n",
    "finbert = BertForSequenceClassification.from_pretrained('yiyanghkust/finbert-fls',num_labels=3)"
   ]
  },
  {
   "cell_type": "code",
   "execution_count": 6,
   "id": "d586df4f-9be6-4b55-99f5-785542fba736",
   "metadata": {},
   "outputs": [
    {
     "data": {
      "application/vnd.jupyter.widget-view+json": {
       "model_id": "93b39c16b6d048eb92956f2fa3766a52",
       "version_major": 2,
       "version_minor": 0
      },
      "text/plain": [
       "Downloading:   0%|          | 0.00/226k [00:00<?, ?B/s]"
      ]
     },
     "metadata": {},
     "output_type": "display_data"
    }
   ],
   "source": [
    "# Download the Pre-trained transformer used to process our raw text\n",
    "tokenizer = BertTokenizer.from_pretrained('yiyanghkust/finbert-fls')"
   ]
  },
  {
   "cell_type": "code",
   "execution_count": 7,
   "id": "3db2bdd2-4909-4484-9180-4118b187d431",
   "metadata": {},
   "outputs": [],
   "source": [
    "# Download the FinBert model used to process our transformed data\n",
    "nlp = pipeline(\"text-classification\", model=finbert, tokenizer=tokenizer)"
   ]
  },
  {
   "cell_type": "markdown",
   "id": "e105b298-3cb9-4086-9dd7-dbc8ca08e81b",
   "metadata": {},
   "source": [
    "The *finbert-fls* model was specifically designed to analyze financial text to provide a score for each of the predictive states defined by the model:\n",
    "* Specific FLS\n",
    "* Non-specific FLS\n",
    "* Not FLS\n",
    "\n",
    "For example, we can feed in any text into the model to demonstrate:"
   ]
  },
  {
   "cell_type": "code",
   "execution_count": 8,
   "id": "f6d8b2b8-4229-4f4a-86ed-926a5b716574",
   "metadata": {},
   "outputs": [
    {
     "data": {
      "text/plain": [
       "[{'label': 'Specific FLS', 'score': 0.8574218153953552},\n",
       " {'label': 'Non-specific FLS', 'score': 0.1353202611207962},\n",
       " {'label': 'Not FLS', 'score': 0.007257895078510046}]"
      ]
     },
     "execution_count": 8,
     "metadata": {},
     "output_type": "execute_result"
    }
   ],
   "source": [
    "prediction = nlp(\"The future for next years sales will increase by 10 %.\", top_k=3)\n",
    "prediction"
   ]
  },
  {
   "cell_type": "markdown",
   "id": "16eaeb5f-6276-4c3a-bc6a-aa861b6faf89",
   "metadata": {},
   "source": [
    "The first 2 outcomes (Specific and Non-specific) represent statements that are **Forward Looking Statements**.  However, the main difference is that 'specific' statements can be interpreted as more precise or specific.  For example:\n",
    "\n",
    "> *The future for next years sales will increase by 10 %.*\n",
    "\n",
    "The above statement is specific in that it is precise regarding the increase in sales by 10%."
   ]
  },
  {
   "cell_type": "code",
   "execution_count": 9,
   "id": "cbb8cd4a-f545-463c-bde2-297399b87276",
   "metadata": {},
   "outputs": [
    {
     "data": {
      "text/plain": [
       "[{'label': 'Non-specific FLS', 'score': 0.5118423700332642},\n",
       " {'label': 'Specific FLS', 'score': 0.4791838228702545},\n",
       " {'label': 'Not FLS', 'score': 0.008973869495093822}]"
      ]
     },
     "execution_count": 9,
     "metadata": {},
     "output_type": "execute_result"
    }
   ],
   "source": [
    "# Conversely, if we change the above statement slightly...\n",
    "prediction = nlp(\"The future for next years sales will increase.\", top_k=3)\n",
    "prediction"
   ]
  },
  {
   "cell_type": "markdown",
   "id": "6c4de2f5-1b78-4865-af8f-94162ffc621b",
   "metadata": {},
   "source": [
    "However, the following statement:\n",
    "\n",
    "> *The future for next years sales will increase.*\n",
    "\n",
    "leans less against specific and more towards non-specific as it is not clear what the sales increase will be.  In general, non-specific statements can be ambiguous and potentially lead to uncertainty where specific statements provide more confidence and clarity.\n",
    "\n",
    "#### Sentiment\n",
    "As part of our analysis, I plan to evaluate the Forward Looking Statement to measure the sentiment of each.  While Forward Looking Statements can provide predictions about future business conditions, these conditions are not necessarily positive.  It might be useful to measure the overall tone of the forward looking statements during the analysis."
   ]
  },
  {
   "cell_type": "code",
   "execution_count": 10,
   "id": "e2cce1cd",
   "metadata": {},
   "outputs": [
    {
     "data": {
      "application/vnd.jupyter.widget-view+json": {
       "model_id": "6b2ac4b7b16f4ef5ab0bc886f24be3cb",
       "version_major": 2,
       "version_minor": 0
      },
      "text/plain": [
       "Downloading:   0%|          | 0.00/252 [00:00<?, ?B/s]"
      ]
     },
     "metadata": {},
     "output_type": "display_data"
    },
    {
     "data": {
      "application/vnd.jupyter.widget-view+json": {
       "model_id": "4e71651a6f2645359316dff4aab8f4e9",
       "version_major": 2,
       "version_minor": 0
      },
      "text/plain": [
       "Downloading:   0%|          | 0.00/758 [00:00<?, ?B/s]"
      ]
     },
     "metadata": {},
     "output_type": "display_data"
    },
    {
     "data": {
      "application/vnd.jupyter.widget-view+json": {
       "model_id": "4969328c17494a8794c0647d5259ad61",
       "version_major": 2,
       "version_minor": 0
      },
      "text/plain": [
       "Downloading:   0%|          | 0.00/232k [00:00<?, ?B/s]"
      ]
     },
     "metadata": {},
     "output_type": "display_data"
    },
    {
     "data": {
      "application/vnd.jupyter.widget-view+json": {
       "model_id": "0744b2dde086488abb484e5412459a0b",
       "version_major": 2,
       "version_minor": 0
      },
      "text/plain": [
       "Downloading:   0%|          | 0.00/112 [00:00<?, ?B/s]"
      ]
     },
     "metadata": {},
     "output_type": "display_data"
    }
   ],
   "source": [
    "# Sentiment - Download the Pre-trained transformer used to process our raw text\n",
    "sent_tokenizer = AutoTokenizer.from_pretrained(\"ProsusAI/finbert\")"
   ]
  },
  {
   "cell_type": "code",
   "execution_count": 11,
   "id": "b7ed8a79-267e-42a4-b026-8d6347d52dcc",
   "metadata": {},
   "outputs": [
    {
     "data": {
      "application/vnd.jupyter.widget-view+json": {
       "model_id": "f70e78b677fc4302afd5b99f3daf9d58",
       "version_major": 2,
       "version_minor": 0
      },
      "text/plain": [
       "Downloading:   0%|          | 0.00/438M [00:00<?, ?B/s]"
      ]
     },
     "metadata": {},
     "output_type": "display_data"
    }
   ],
   "source": [
    "# Sentiment - Download the FinBert model used to process our transformed data\n",
    "model = AutoModelForSequenceClassification.from_pretrained(\"ProsusAI/finbert\")"
   ]
  },
  {
   "cell_type": "markdown",
   "id": "16e4f9b2-1df2-4014-a484-6a8232dad663",
   "metadata": {},
   "source": [
    "### Filings\n",
    "The Filings service available within Refinitiv provides the ability to search and extract Global Filings documents for thousands of companies spanning over 50 years of history.  As part of the service, the interface supports the extraction of specific sections within a document.  For example, 10-Q filings are well-structured documents containing specific sections such as Management Discussion, Exhibits, Cashflow Statements, etc.  By utilizing the capabilities offered within the Filings GraphQL interface, I can explicitly choose a specific section for analysis.  Because the <b>entire Filings document</b> is typically complex and contains many standard sections, this will introduce too much insignificant text that may skew the analysis.  Instead, our goal is to utilize the power of the service to choose a specific section that can offer text that may dictate the tone representative of the overall sentiment of the Filing."
   ]
  },
  {
   "cell_type": "markdown",
   "id": "af83cf3a-d2b3-4947-a76b-c04fcc9263f0",
   "metadata": {},
   "source": [
    "#### Filings components\n",
    "At the heart of the Filings service is a flexible and powerful GraphQL interface that supports the ability to search and select criteria when requesting for documents. While the Filings GraphQL interface does provide significant power when choosing criteria, the formulation of the expressions can be quite terse and intimidating.  To facilitate the use of this interface, a couple of convenient complimentary components have been created to significantly simplify and reduce the time to query the Filings service.  While these components are important and greatly simplify the formulation of queries, I will leave it to the reader to review these interfaces at their leisure for more information.  Additionally, if you want to understand the details around the Filings GraphQL interface as well as the overall service, I would recommend you refer to the [Introduction to Filings](https://developers.refinitiv.com/en/article-catalog/article/introduction-to-filings---python) article.\n",
    "\n",
    "For the purposes of this workflow, I will describe the general interface capabilities of the supporting components.\n",
    "\n",
    "<b>FilingsQuery</b><br>\n",
    "A class that packages up a GraphQL object.  The interface includes some of the more common properties when formulating Filings criteria.  For example:\n",
    "```\n",
    "query = FilingsQuery().form_type(\"10-Q\")                   # Defines the Form Type used to query across the Filings database\n",
    "                      .feed(FilingsQuery.Feed.EDGAR)       # Only look for Filings related to the EDGAR (US SEC)\n",
    "                      .orgid(1234)                         # Search for a specific company using its organization ID or Perm ID\n",
    "                      .start_date(\"2021-05-31T00:00:00Z\")  # Filings for a specific date range\n",
    "                      .end_date(\"2022-06-30T23:59:59Z\")    #\n",
    "                      .text(\"BREXIT\")                      # Filter documents if it contains specific text\n",
    "                      .sections([\"CashFlowStatement\"])     # Extract specific sections of text within the filings\n",
    "                      .graphQL                             # Process and return the GraphQL string\n",
    "```\n",
    "\n",
    "<b>SymbolLookup</b><br>\n",
    "A class that allows the specification of multiple identifier types to retrieve the organization ID required by the GraphQL service.  For example:\n",
    "```\n",
    "orgid = SymbolLookup(ric=\"AAPL.O\").convert()          # RIC       \n",
    "orgid = SymbolLookup(cusip=\"037833100\").convert()     # CUSIP\n",
    "orgid = SymbolLookup(isin=\"US0378331005\").convert()   # ISIN\n",
    "orgid = SymbolLookup(sedol=\"BH4HKS3\").convert()       # SEDOL\n",
    "orgid = SymbolLookup(\"AAPL\").mic(\"XNAS\").convert()    # Ticker (may require MIC to resolve exchange)\n",
    "      = SymbolLookup(ticker=\"AAPL\").mic(\"XNAS\").convert()\n",
    "```"
   ]
  },
  {
   "cell_type": "markdown",
   "id": "914adaf1-ea08-4b40-9bf4-c5bfbf33853b",
   "metadata": {
    "tags": []
   },
   "source": [
    "#### Define the input properties required for analysis\n",
    "There are a number of ways I can collect filings data and the strategy I can use to evaluate the text.  For this analysis, I've chosen to use a single company and capture multiple reports over time.  One thing I considered was that I intentionally avoided mixing filings from multiple companies.  It's quite possible that we may get more accurate results if we focus on the writing style and tone from the same company.\n",
    "\n",
    "To begin, I'll prepare criteria that acts as the basis for the data sets by choosing a company and a time frame to capture content."
   ]
  },
  {
   "cell_type": "code",
   "execution_count": 12,
   "id": "fa556ffe-abc1-4ff1-9d0a-25c8006fb286",
   "metadata": {
    "tags": []
   },
   "outputs": [],
   "source": [
    "# Use the RIC to define our company identifier\n",
    "identifier = \"TSLA.O\"      # Tesla\n",
    "\n",
    "# Data ranges to capture our data sets used to predict sentiment\n",
    "start = \"2010-01-01T00:00:00Z\"\n",
    "end = \"2022-10-31T23:59:59Z\""
   ]
  },
  {
   "cell_type": "markdown",
   "id": "d542663c-74c2-48b5-8e13-4954caeb47f1",
   "metadata": {
    "tags": []
   },
   "source": [
    "The Filings API utilizes the *Organization ID* or *Company Perm ID* as the key to locate a specific company.  The following approaches can be used to determine the company of interest.  \n",
    "\n",
    "Within the desktop:\n",
    "\n",
    " * From the search window in the Desktop Taskbar, start typing the name of the company.  For example, using Refinitiv Workspace, start typing and auto-suggest will present matches. When found, hit the \"tab\" key.  Follow this up by typing \"Codes\" then hit tab then press \"enter\" and a screen will show the \"Company PermID\".\n",
    " * Within the desktop, pull up the DIB (Data Item Browser) and locate the field [TR.OrganizationID].  For example, as above, select the company.  In the field input window, type \"Organization\" and look for TR.OrganizationID.\n",
    " \n",
    "Alternatively:\n",
    " * The ID can be determined programmatically using the SymbolLookup component outlined above. I will use *SymbolLookup()* mechanism in the next step."
   ]
  },
  {
   "cell_type": "code",
   "execution_count": 13,
   "id": "9ed8be02-a144-4a57-8698-4b615c4cfe89",
   "metadata": {},
   "outputs": [],
   "source": [
    "# Query the Filings service using the Refinitiv Data Library for Python.\n",
    "#\n",
    "# Retrieve SEC filings for the specific company - specify the text we want to retrieve\n",
    "# is defined within the \"Management Discussion\" section.\n",
    "response = filings.search.Definition(\n",
    "    query = FilingsQuery().form_type(\"10-Q\")\n",
    "                          .orgid(SymbolLookup(ric=identifier).convert())\n",
    "                          .feed(FilingsQuery.Feed.EDGAR)\n",
    "                          .sections([\"ManagementDiscussion\"])\n",
    "                          .start_date(start)\n",
    "                          .end_date(end)\n",
    "                          .limit(100)\n",
    "                          .graphQL\n",
    ").get_data()"
   ]
  },
  {
   "cell_type": "code",
   "execution_count": 14,
   "id": "e5c92594-9c76-4313-9acc-1de45f29bfa0",
   "metadata": {},
   "outputs": [
    {
     "data": {
      "text/plain": [
       "38"
      ]
     },
     "execution_count": 14,
     "metadata": {},
     "output_type": "execute_result"
    }
   ],
   "source": [
    "# Retrieve and report the # of reports based on our query\n",
    "reports = response.data.raw['data']['FinancialFiling']\n",
    "organization = reports[0][\"FilingOrganization\"]['Names']['Name']['OrganizationName'][0]['Name']\n",
    "len(reports)"
   ]
  },
  {
   "cell_type": "markdown",
   "id": "09530f97-9abd-4f00-8976-15dc05e230cd",
   "metadata": {},
   "source": [
    "### Filings text extraction\n",
    "The above request performed the query to retrieve quarterly SEC filings for the company Tesla.  Within the response contains meta data related to the flings as well as the key information requested - the text containing the \"Management Discussion\".  At this point, I plan to prepare for the next step of my analysis by extracting this text for each filings document reported."
   ]
  },
  {
   "cell_type": "code",
   "execution_count": 15,
   "id": "29040d3b-9b4f-468c-821b-0d93c46bdde5",
   "metadata": {},
   "outputs": [],
   "source": [
    "# Declare our final results table\n",
    "results = pd.DataFrame()\n",
    "dates = []\n",
    "text = []\n",
    "\n",
    "# Pull out the filings text for each report\n",
    "for filing in reversed(reports):\n",
    "    section = filing['FilingDocument']['Sections']['ManagementDiscussion']['Text']\n",
    "    filingDate = filing['FilingDocument']['DocumentSummary']['FilingDate']\n",
    "        \n",
    "    if section is not None:\n",
    "        dates.append(filingDate[:10])\n",
    "        \n",
    "        # Process the text. Using BeautifulSoup and other means to clean the data\n",
    "        beautifulSoupText = BeautifulSoup(section, \"html.parser\")\n",
    "        \n",
    "        # Clean the data and capture it for later processing\n",
    "        text.append(beautifulSoupText.prettify(formatter=lambda s: s.replace(u'\\xa0', ' ').replace('\\r', ' ')))\n",
    "\n",
    "results['FilingDate'] = dates\n",
    "results['section'] = text"
   ]
  },
  {
   "cell_type": "markdown",
   "id": "6fada60c-525f-475b-aad7-67c7dcac0c4a",
   "metadata": {},
   "source": [
    "#### Capture Closing Prices\n",
    "As part of the analysis, I want to capture the closing price based on the Filings date.  The goal is to look for any possible correlation with the intelligence we extract from the text and the performance of the stock.  While we know performance is based on many factors, the point of this measure is to evaluate one of many possible trends as a way to look for correlation."
   ]
  },
  {
   "cell_type": "code",
   "execution_count": 16,
   "id": "6bfc8275-33ba-4a2a-8857-e242ae22c9b0",
   "metadata": {
    "tags": []
   },
   "outputs": [
    {
     "data": {
      "application/vnd.jupyter.widget-view+json": {
       "model_id": "b26c5df9ce1e4a72991f9cfd1ed86feb",
       "version_major": 2,
       "version_minor": 0
      },
      "text/plain": [
       "  0%|          | 0/21 [00:00<?, ?it/s]"
      ]
     },
     "metadata": {},
     "output_type": "display_data"
    },
    {
     "name": "stdout",
     "output_type": "stream",
     "text": [
      "**completed**\n"
     ]
    }
   ],
   "source": [
    "# Container to hold the Closing Prices based on the filing date\n",
    "prices = []\n",
    "\n",
    "# Walk through the collection of filings and pull out the reported filing date\n",
    "num_rows = len(results)\n",
    "\n",
    "for i in trange(num_rows):\n",
    "    date = results.iloc[i]['FilingDate']\n",
    "    response = rd.get_data(identifier, ['TR.PriceClose.date', 'TR.PriceClose'], parameters = {'SDate': date, 'EDate': date})\n",
    "    if not response.empty:\n",
    "        prices.append(response.iloc[0]['Price Close'])\n",
    "    else:\n",
    "        print(f'Unable to retrieve any data price for {identifier}. May be an issue with permissions')\n",
    "\n",
    "if prices:\n",
    "    results['close'] = prices\n",
    "print(\"**completed**\")"
   ]
  },
  {
   "cell_type": "code",
   "execution_count": 17,
   "id": "54c65ae9-4da5-4f10-a71c-93d1bf0326dc",
   "metadata": {},
   "outputs": [
    {
     "data": {
      "text/html": [
       "<div>\n",
       "<style scoped>\n",
       "    .dataframe tbody tr th:only-of-type {\n",
       "        vertical-align: middle;\n",
       "    }\n",
       "\n",
       "    .dataframe tbody tr th {\n",
       "        vertical-align: top;\n",
       "    }\n",
       "\n",
       "    .dataframe thead th {\n",
       "        text-align: right;\n",
       "    }\n",
       "</style>\n",
       "<table border=\"1\" class=\"dataframe\">\n",
       "  <thead>\n",
       "    <tr style=\"text-align: right;\">\n",
       "      <th></th>\n",
       "      <th>FilingDate</th>\n",
       "      <th>section</th>\n",
       "      <th>close</th>\n",
       "    </tr>\n",
       "  </thead>\n",
       "  <tbody>\n",
       "    <tr>\n",
       "      <th>0</th>\n",
       "      <td>2011-05-13</td>\n",
       "      <td>ITEM 2.  MANAGEMENT’S DISCUSSION AND ANALYSIS OF FINANCI...</td>\n",
       "      <td>1.836665</td>\n",
       "    </tr>\n",
       "    <tr>\n",
       "      <th>1</th>\n",
       "      <td>2011-08-12</td>\n",
       "      <td>ITEM 2.  MANAGEMENT’S DISCUSSION AND ANALYSIS OF FINANCI...</td>\n",
       "      <td>1.753998</td>\n",
       "    </tr>\n",
       "    <tr>\n",
       "      <th>2</th>\n",
       "      <td>2011-11-14</td>\n",
       "      <td>19         Table of Contents    ITEM 2.     MANAGEMENT’S...</td>\n",
       "      <td>2.214664</td>\n",
       "    </tr>\n",
       "    <tr>\n",
       "      <th>3</th>\n",
       "      <td>2012-05-10</td>\n",
       "      <td>ITEM 2.    MANAGEMENT’S DISCUSSION AND ANALYSIS OF FINAN...</td>\n",
       "      <td>2.197331</td>\n",
       "    </tr>\n",
       "    <tr>\n",
       "      <th>4</th>\n",
       "      <td>2012-08-02</td>\n",
       "      <td>ITEM 2. MANAGEMENT’S DISCUSSION AND ANALYSIS OF FINANCIA...</td>\n",
       "      <td>1.739998</td>\n",
       "    </tr>\n",
       "    <tr>\n",
       "      <th>5</th>\n",
       "      <td>2012-11-07</td>\n",
       "      <td>ITEM 2. MANAGEMENT’S DISCUSSION AND ANALYSIS OF FINANCIA...</td>\n",
       "      <td>2.102665</td>\n",
       "    </tr>\n",
       "    <tr>\n",
       "      <th>6</th>\n",
       "      <td>2013-05-10</td>\n",
       "      <td>ITEM 2. MANAGEMENT’S DISCUSSION AND ANALYSIS OF FINANCIA...</td>\n",
       "      <td>5.117595</td>\n",
       "    </tr>\n",
       "    <tr>\n",
       "      <th>7</th>\n",
       "      <td>2013-08-09</td>\n",
       "      <td>ITEM 2.  MANAGEMENT’S DISCUSSION AND ANALYSIS OF FINANCI...</td>\n",
       "      <td>10.199990</td>\n",
       "    </tr>\n",
       "    <tr>\n",
       "      <th>8</th>\n",
       "      <td>2014-05-09</td>\n",
       "      <td>ITEM 2.  MANAGEMENT’S DISCUSSION AND ANALYSIS OF FINANCI...</td>\n",
       "      <td>12.150655</td>\n",
       "    </tr>\n",
       "    <tr>\n",
       "      <th>9</th>\n",
       "      <td>2014-08-08</td>\n",
       "      <td>ITEM 2.  MANAGEMENT’S DISCUSSION AND ANALYSIS OF FINANCI...</td>\n",
       "      <td>16.541983</td>\n",
       "    </tr>\n",
       "    <tr>\n",
       "      <th>10</th>\n",
       "      <td>2014-11-07</td>\n",
       "      <td>ITEM 2.  MANAGEMENT’S DISCUSSION AND ANALYSIS OF FINANCI...</td>\n",
       "      <td>16.013317</td>\n",
       "    </tr>\n",
       "    <tr>\n",
       "      <th>11</th>\n",
       "      <td>2015-05-11</td>\n",
       "      <td>ITEM 2.  MANAGEMENT’S DISCUSSION AND ANALYSIS OF FINANCI...</td>\n",
       "      <td>15.965984</td>\n",
       "    </tr>\n",
       "    <tr>\n",
       "      <th>12</th>\n",
       "      <td>2015-11-05</td>\n",
       "      <td>ITEM 2.  MANAGEMENT’S DISCUSSION AND ANALYSIS OF FINANCI...</td>\n",
       "      <td>15.451318</td>\n",
       "    </tr>\n",
       "    <tr>\n",
       "      <th>13</th>\n",
       "      <td>2016-05-10</td>\n",
       "      <td>ITEM 2.  MANAGEMENT’S DISCUSSION AND ANALYSIS OF FINANCI...</td>\n",
       "      <td>13.912653</td>\n",
       "    </tr>\n",
       "    <tr>\n",
       "      <th>14</th>\n",
       "      <td>2016-08-05</td>\n",
       "      <td>ITEM 2.  MANAGEMENT’S DISCUSSION AND ANALYSIS OF FINANCI...</td>\n",
       "      <td>15.335318</td>\n",
       "    </tr>\n",
       "    <tr>\n",
       "      <th>15</th>\n",
       "      <td>2016-11-02</td>\n",
       "      <td>ITEM 2.  MANAGEMENT’S DISCUSSION AND ANALYSIS OF FINANCI...</td>\n",
       "      <td>12.534654</td>\n",
       "    </tr>\n",
       "    <tr>\n",
       "      <th>16</th>\n",
       "      <td>2017-05-10</td>\n",
       "      <td>29          ITEM 2.  MANAGEMENT’S DISCUSSION AND ANALYSI...</td>\n",
       "      <td>21.681312</td>\n",
       "    </tr>\n",
       "    <tr>\n",
       "      <th>17</th>\n",
       "      <td>2018-05-07</td>\n",
       "      <td>32    ITEM 2. MANAGEMENT’S DISCUSSION AND ANALYSIS OF FI...</td>\n",
       "      <td>20.184646</td>\n",
       "    </tr>\n",
       "    <tr>\n",
       "      <th>18</th>\n",
       "      <td>2018-08-06</td>\n",
       "      <td>32    ITEM 2. MANAGEMENT’S DISCUSSION AND ANALYSIS OF FI...</td>\n",
       "      <td>22.799311</td>\n",
       "    </tr>\n",
       "    <tr>\n",
       "      <th>19</th>\n",
       "      <td>2018-11-02</td>\n",
       "      <td>35    ITEM 2. MANAGEMENT’S DISCUSSION AND ANALYSIS OF FI...</td>\n",
       "      <td>23.093977</td>\n",
       "    </tr>\n",
       "    <tr>\n",
       "      <th>20</th>\n",
       "      <td>2019-04-29</td>\n",
       "      <td>ITEM 2. MANAGEMENT’S DISCUSSION AND ANALYSIS OF FINANCIA...</td>\n",
       "      <td>16.097984</td>\n",
       "    </tr>\n",
       "  </tbody>\n",
       "</table>\n",
       "</div>"
      ],
      "text/plain": [
       "    FilingDate                                                      section  \\\n",
       "0   2011-05-13  ITEM 2.  MANAGEMENT’S DISCUSSION AND ANALYSIS OF FINANCI...   \n",
       "1   2011-08-12  ITEM 2.  MANAGEMENT’S DISCUSSION AND ANALYSIS OF FINANCI...   \n",
       "2   2011-11-14  19         Table of Contents    ITEM 2.     MANAGEMENT’S...   \n",
       "3   2012-05-10  ITEM 2.    MANAGEMENT’S DISCUSSION AND ANALYSIS OF FINAN...   \n",
       "4   2012-08-02  ITEM 2. MANAGEMENT’S DISCUSSION AND ANALYSIS OF FINANCIA...   \n",
       "5   2012-11-07  ITEM 2. MANAGEMENT’S DISCUSSION AND ANALYSIS OF FINANCIA...   \n",
       "6   2013-05-10  ITEM 2. MANAGEMENT’S DISCUSSION AND ANALYSIS OF FINANCIA...   \n",
       "7   2013-08-09  ITEM 2.  MANAGEMENT’S DISCUSSION AND ANALYSIS OF FINANCI...   \n",
       "8   2014-05-09  ITEM 2.  MANAGEMENT’S DISCUSSION AND ANALYSIS OF FINANCI...   \n",
       "9   2014-08-08  ITEM 2.  MANAGEMENT’S DISCUSSION AND ANALYSIS OF FINANCI...   \n",
       "10  2014-11-07  ITEM 2.  MANAGEMENT’S DISCUSSION AND ANALYSIS OF FINANCI...   \n",
       "11  2015-05-11  ITEM 2.  MANAGEMENT’S DISCUSSION AND ANALYSIS OF FINANCI...   \n",
       "12  2015-11-05  ITEM 2.  MANAGEMENT’S DISCUSSION AND ANALYSIS OF FINANCI...   \n",
       "13  2016-05-10  ITEM 2.  MANAGEMENT’S DISCUSSION AND ANALYSIS OF FINANCI...   \n",
       "14  2016-08-05  ITEM 2.  MANAGEMENT’S DISCUSSION AND ANALYSIS OF FINANCI...   \n",
       "15  2016-11-02  ITEM 2.  MANAGEMENT’S DISCUSSION AND ANALYSIS OF FINANCI...   \n",
       "16  2017-05-10  29          ITEM 2.  MANAGEMENT’S DISCUSSION AND ANALYSI...   \n",
       "17  2018-05-07  32    ITEM 2. MANAGEMENT’S DISCUSSION AND ANALYSIS OF FI...   \n",
       "18  2018-08-06  32    ITEM 2. MANAGEMENT’S DISCUSSION AND ANALYSIS OF FI...   \n",
       "19  2018-11-02  35    ITEM 2. MANAGEMENT’S DISCUSSION AND ANALYSIS OF FI...   \n",
       "20  2019-04-29  ITEM 2. MANAGEMENT’S DISCUSSION AND ANALYSIS OF FINANCIA...   \n",
       "\n",
       "        close  \n",
       "0    1.836665  \n",
       "1    1.753998  \n",
       "2    2.214664  \n",
       "3    2.197331  \n",
       "4    1.739998  \n",
       "5    2.102665  \n",
       "6    5.117595  \n",
       "7   10.199990  \n",
       "8   12.150655  \n",
       "9   16.541983  \n",
       "10  16.013317  \n",
       "11  15.965984  \n",
       "12  15.451318  \n",
       "13  13.912653  \n",
       "14  15.335318  \n",
       "15  12.534654  \n",
       "16  21.681312  \n",
       "17  20.184646  \n",
       "18  22.799311  \n",
       "19  23.093977  \n",
       "20  16.097984  "
      ]
     },
     "execution_count": 17,
     "metadata": {},
     "output_type": "execute_result"
    }
   ],
   "source": [
    "results"
   ]
  },
  {
   "cell_type": "markdown",
   "id": "300b477d-4a28-423d-a048-19b786591069",
   "metadata": {},
   "source": [
    "### AI model evaluation\n",
    "For each of the above filings, break down the entire \"Management Discussions and Analysis\" segment into individual sentences and run each through the pretrained FinBert models to generate our predictions.  The *evaluate()* function below performs the following analysis for each filings report:\n",
    "\n",
    "For each sentence:\n",
    "* Evaluate the FLS predictions\n",
    "* Evaluate the Sentiment\n",
    "\n",
    "Collect the above FLS results to measure the percentage of sentences that are Forward-looking statements."
   ]
  },
  {
   "cell_type": "code",
   "execution_count": 18,
   "id": "7a0e153c-4c84-4595-a471-73d2c214f56a",
   "metadata": {},
   "outputs": [],
   "source": [
    "def evaluate(filings):\n",
    "    # Container to hold the percentages of FLS sentences within each filing\n",
    "    fls_pct = []\n",
    "    \n",
    "    # Container to hold the sentiment scores\n",
    "    scores = []\n",
    "\n",
    "    # Walk through the collection of filings and feed into the FinBert models\n",
    "    num_rows = len(filings)\n",
    "\n",
    "    for i in trange(num_rows):\n",
    "        # Pull out the \"Management Section\" text from our filings\n",
    "        management_section = filings.iloc[i]['section']\n",
    "  \n",
    "        # For this section, break it into individual sentences\n",
    "        sentences = sent_tokenize(management_section)\n",
    "    \n",
    "        # Initialize our FLS container\n",
    "        fls = []\n",
    "        \n",
    "        # Define the container to collect stats related to the sentiment scores\n",
    "        # for all forward-looking statement\n",
    "        sentiments = torch.Tensor([0,0,0])\n",
    "        \n",
    "        # Process each sentence, converting into tokens required by the FinBert model.\n",
    "        for sentence in sentences:\n",
    "            # FLS prediction\n",
    "            prediction = nlp(sentence[:512], top_k=3)[0]['label']\n",
    "\n",
    "            # Capture FLS statements\n",
    "            if prediction.startswith(\"Specific\") or prediction.startswith(\"Non\"):\n",
    "                fls.append(sentence)\n",
    "                \n",
    "                # Tokenize - The FinBert model requires tensor-based tokens as input. For any given \n",
    "                # sentence, I must ensure the length must does not exceed the models self-imposed limit.\n",
    "                encoded_input = sent_tokenizer(sentence, return_tensors=\"pt\", truncation=True)\n",
    "                \n",
    "                with torch.no_grad():\n",
    "                    # Run the sentence through the model...\n",
    "                    output = model(**encoded_input)\n",
    "\n",
    "                    # The prediction will be in the form of a probability\n",
    "                    fls_sentiment = torch.nn.functional.softmax(output.logits, dim=-1)\n",
    "\n",
    "                    # Tally the predictions for each sentence\n",
    "                    sentiments = sentiments+fls_sentiment\n",
    "        \n",
    "        # Record the percentage of FLS sentences\n",
    "        fls_pct.append(len(fls)/len(sentences)*100)\n",
    "        \n",
    "        # Record the resulting sentiment for 'FLS' sentences within this section\n",
    "        sentiments = sentiments.divide(len(sentences))\n",
    "\n",
    "        score = model.config.id2label[sentiments.argmax().item()]\n",
    "        print(f'Filing: {i+1} contains {len(sentences)} sentences of which {len(fls)} are \"FLS\" with a sentiment of: {sentiments} => {score}')\n",
    "        scores.append(score)  \n",
    "\n",
    "    # Add the measures to our results table\n",
    "    filings['fls_pct'] = fls_pct\n",
    "    filings[f'fls_sentiment'] = scores"
   ]
  },
  {
   "cell_type": "markdown",
   "id": "ff4be075-e930-4015-baba-36272f86d53b",
   "metadata": {},
   "source": [
    "#### Display Graph module\n",
    "Once we capture our entire data sets, we'll present the results in a detailed graph to determine if we can interpret the results of the predictions presented within our AI models."
   ]
  },
  {
   "cell_type": "code",
   "execution_count": 19,
   "id": "e331495b-b073-4199-a406-b8dc13fe3336",
   "metadata": {},
   "outputs": [],
   "source": [
    "# Plot the data\n",
    "def plot(x_axis, title, y1_label, x2_axis, **kwargs):\n",
    "    plt.style.use('dark_background')\n",
    "    plt.rcParams['figure.figsize'] = (17,8)\n",
    "    \n",
    "    fig, ax = plt.subplots()\n",
    "    for label, data in kwargs.items():\n",
    "        # Special label '_' to plot vertical bar\n",
    "        if label == '_':\n",
    "            x = 0\n",
    "            for s in data:\n",
    "                plt.axvline(x, ymax=0.25, color=s['color'], label=s['label'], linestyle=\"--\")\n",
    "                x += 1\n",
    "        else:\n",
    "            ax.plot(x_axis, data, label=label)\n",
    "    \n",
    "    ax2 = ax.twinx()\n",
    "    ax2.plot(x_axis, x2_axis, label=\"Closing Price\", color='red')\n",
    "    \n",
    "    ax.tick_params(labelrotation=90)\n",
    "    \n",
    "    # Remove the spines from the graph - leave the bottom\n",
    "    ax.spines['top'].set_visible(False)\n",
    "    ax.spines['right'].set_visible(False)\n",
    "    ax.spines['left'].set_visible(False)\n",
    "\n",
    "    # Add a faint grid\n",
    "    ax.yaxis.grid(True, alpha=0.2)\n",
    "    ax.xaxis.grid(True, alpha=0.2)\n",
    "\n",
    "    # Add labels and a title. Note the use of `labelpad` and `pad` to add some\n",
    "    # extra space between the text and the tick labels.\n",
    "    ax.set_ylabel(y1_label, labelpad=12, fontsize=14, color='cyan')\n",
    "    ax.set_title(title, pad=15, fontsize=16, color='cyan')\n",
    "    \n",
    "    if len(kwargs) > 1:\n",
    "        ax.legend(loc='upper left')\n",
    "        \n",
    "    ax2.legend(loc='upper right')\n",
    "\n",
    "    fig.tight_layout()"
   ]
  },
  {
   "cell_type": "code",
   "execution_count": 20,
   "id": "1a0f9e00-dbcb-48b5-9c66-2b5f3051b0f0",
   "metadata": {},
   "outputs": [],
   "source": [
    "def sentiment_bars(scores):\n",
    "    bars = []\n",
    "    frequency = {'negative':0, 'neutral':0, 'positive':0}\n",
    "    \n",
    "    for s in scores:\n",
    "        bar = {'color': '', 'label': ''}\n",
    "        if s == 'negative':\n",
    "            color = 'red'\n",
    "        elif s == 'neutral':\n",
    "            color = 'yellow'\n",
    "        else:\n",
    "            color = 'green'\n",
    "            \n",
    "        bar['color'] = color\n",
    "        bar['label'] = s if frequency[s] == 0 else '_'\n",
    "        frequency[s] += 1\n",
    "        bars.append(bar)\n",
    "            \n",
    "    return bars"
   ]
  },
  {
   "cell_type": "markdown",
   "id": "da7299dc-1dbd-4eff-8441-bbbfeaabec07",
   "metadata": {},
   "source": [
    "### Analysis\n",
    "With our data, modeling and presentation routines in place, let's begin analysis.  I'll take the results of our filings and run them through the evaluation algorithm to find any correlation."
   ]
  },
  {
   "cell_type": "code",
   "execution_count": 21,
   "id": "a03e6128-9ccc-447c-b5e2-18e44bda0d86",
   "metadata": {},
   "outputs": [
    {
     "data": {
      "application/vnd.jupyter.widget-view+json": {
       "model_id": "9d8e22ddd6a5476b9d22a2a234a34a90",
       "version_major": 2,
       "version_minor": 0
      },
      "text/plain": [
       "  0%|          | 0/21 [00:00<?, ?it/s]"
      ]
     },
     "metadata": {},
     "output_type": "display_data"
    },
    {
     "name": "stdout",
     "output_type": "stream",
     "text": [
      "Filing: 1 contains 239 sentences of which 78 are \"FLS\" with a sentiment of: tensor([[0.1109, 0.0442, 0.1713]]) => neutral\n",
      "Filing: 2 contains 238 sentences of which 69 are \"FLS\" with a sentiment of: tensor([[0.1100, 0.0321, 0.1479]]) => neutral\n",
      "Filing: 3 contains 230 sentences of which 72 are \"FLS\" with a sentiment of: tensor([[0.1083, 0.0353, 0.1694]]) => neutral\n",
      "Filing: 4 contains 198 sentences of which 59 are \"FLS\" with a sentiment of: tensor([[0.0888, 0.0582, 0.1510]]) => neutral\n",
      "Filing: 5 contains 229 sentences of which 71 are \"FLS\" with a sentiment of: tensor([[0.1054, 0.0681, 0.1366]]) => neutral\n",
      "Filing: 6 contains 199 sentences of which 48 are \"FLS\" with a sentiment of: tensor([[0.1002, 0.0456, 0.0954]]) => positive\n",
      "Filing: 7 contains 193 sentences of which 53 are \"FLS\" with a sentiment of: tensor([[0.1205, 0.0609, 0.0932]]) => positive\n",
      "Filing: 8 contains 237 sentences of which 56 are \"FLS\" with a sentiment of: tensor([[0.0825, 0.0383, 0.1155]]) => neutral\n",
      "Filing: 9 contains 272 sentences of which 85 are \"FLS\" with a sentiment of: tensor([[0.1293, 0.0347, 0.1485]]) => neutral\n",
      "Filing: 10 contains 304 sentences of which 92 are \"FLS\" with a sentiment of: tensor([[0.1270, 0.0343, 0.1413]]) => neutral\n",
      "Filing: 11 contains 311 sentences of which 93 are \"FLS\" with a sentiment of: tensor([[0.1179, 0.0445, 0.1367]]) => neutral\n",
      "Filing: 12 contains 177 sentences of which 66 are \"FLS\" with a sentiment of: tensor([[0.1574, 0.0613, 0.1542]]) => positive\n",
      "Filing: 13 contains 202 sentences of which 69 are \"FLS\" with a sentiment of: tensor([[0.1328, 0.0726, 0.1361]]) => neutral\n",
      "Filing: 14 contains 182 sentences of which 59 are \"FLS\" with a sentiment of: tensor([[0.1385, 0.0595, 0.1262]]) => positive\n",
      "Filing: 15 contains 189 sentences of which 61 are \"FLS\" with a sentiment of: tensor([[0.1202, 0.0688, 0.1338]]) => neutral\n",
      "Filing: 16 contains 210 sentences of which 56 are \"FLS\" with a sentiment of: tensor([[0.0906, 0.0513, 0.1247]]) => neutral\n",
      "Filing: 17 contains 197 sentences of which 54 are \"FLS\" with a sentiment of: tensor([[0.1129, 0.0693, 0.0920]]) => positive\n",
      "Filing: 18 contains 199 sentences of which 52 are \"FLS\" with a sentiment of: tensor([[0.1300, 0.0653, 0.0660]]) => positive\n",
      "Filing: 19 contains 255 sentences of which 65 are \"FLS\" with a sentiment of: tensor([[0.1288, 0.0587, 0.0674]]) => positive\n",
      "Filing: 20 contains 283 sentences of which 67 are \"FLS\" with a sentiment of: tensor([[0.1142, 0.0628, 0.0597]]) => positive\n",
      "Filing: 21 contains 242 sentences of which 68 are \"FLS\" with a sentiment of: tensor([[0.1273, 0.0640, 0.0898]]) => positive\n"
     ]
    }
   ],
   "source": [
    "# Evaluate our predictions and compare against the sentement scores based on the \n",
    "# FLS sentences.\n",
    "evaluate(results)"
   ]
  },
  {
   "cell_type": "code",
   "execution_count": 22,
   "id": "9484174a-25ff-4c54-8805-5cfd1991c49a",
   "metadata": {},
   "outputs": [
    {
     "data": {
      "text/html": [
       "<div>\n",
       "<style scoped>\n",
       "    .dataframe tbody tr th:only-of-type {\n",
       "        vertical-align: middle;\n",
       "    }\n",
       "\n",
       "    .dataframe tbody tr th {\n",
       "        vertical-align: top;\n",
       "    }\n",
       "\n",
       "    .dataframe thead th {\n",
       "        text-align: right;\n",
       "    }\n",
       "</style>\n",
       "<table border=\"1\" class=\"dataframe\">\n",
       "  <thead>\n",
       "    <tr style=\"text-align: right;\">\n",
       "      <th></th>\n",
       "      <th>FilingDate</th>\n",
       "      <th>section</th>\n",
       "      <th>close</th>\n",
       "      <th>fls_pct</th>\n",
       "      <th>fls_sentiment</th>\n",
       "    </tr>\n",
       "  </thead>\n",
       "  <tbody>\n",
       "    <tr>\n",
       "      <th>0</th>\n",
       "      <td>2011-05-13</td>\n",
       "      <td>ITEM 2.  MANAGEMENT’S DISCUSSION AND ANALYSIS OF FINANCI...</td>\n",
       "      <td>1.836665</td>\n",
       "      <td>32.635983</td>\n",
       "      <td>neutral</td>\n",
       "    </tr>\n",
       "    <tr>\n",
       "      <th>1</th>\n",
       "      <td>2011-08-12</td>\n",
       "      <td>ITEM 2.  MANAGEMENT’S DISCUSSION AND ANALYSIS OF FINANCI...</td>\n",
       "      <td>1.753998</td>\n",
       "      <td>28.991597</td>\n",
       "      <td>neutral</td>\n",
       "    </tr>\n",
       "    <tr>\n",
       "      <th>2</th>\n",
       "      <td>2011-11-14</td>\n",
       "      <td>19         Table of Contents    ITEM 2.     MANAGEMENT’S...</td>\n",
       "      <td>2.214664</td>\n",
       "      <td>31.304348</td>\n",
       "      <td>neutral</td>\n",
       "    </tr>\n",
       "    <tr>\n",
       "      <th>3</th>\n",
       "      <td>2012-05-10</td>\n",
       "      <td>ITEM 2.    MANAGEMENT’S DISCUSSION AND ANALYSIS OF FINAN...</td>\n",
       "      <td>2.197331</td>\n",
       "      <td>29.797980</td>\n",
       "      <td>neutral</td>\n",
       "    </tr>\n",
       "    <tr>\n",
       "      <th>4</th>\n",
       "      <td>2012-08-02</td>\n",
       "      <td>ITEM 2. MANAGEMENT’S DISCUSSION AND ANALYSIS OF FINANCIA...</td>\n",
       "      <td>1.739998</td>\n",
       "      <td>31.004367</td>\n",
       "      <td>neutral</td>\n",
       "    </tr>\n",
       "    <tr>\n",
       "      <th>5</th>\n",
       "      <td>2012-11-07</td>\n",
       "      <td>ITEM 2. MANAGEMENT’S DISCUSSION AND ANALYSIS OF FINANCIA...</td>\n",
       "      <td>2.102665</td>\n",
       "      <td>24.120603</td>\n",
       "      <td>positive</td>\n",
       "    </tr>\n",
       "    <tr>\n",
       "      <th>6</th>\n",
       "      <td>2013-05-10</td>\n",
       "      <td>ITEM 2. MANAGEMENT’S DISCUSSION AND ANALYSIS OF FINANCIA...</td>\n",
       "      <td>5.117595</td>\n",
       "      <td>27.461140</td>\n",
       "      <td>positive</td>\n",
       "    </tr>\n",
       "    <tr>\n",
       "      <th>7</th>\n",
       "      <td>2013-08-09</td>\n",
       "      <td>ITEM 2.  MANAGEMENT’S DISCUSSION AND ANALYSIS OF FINANCI...</td>\n",
       "      <td>10.199990</td>\n",
       "      <td>23.628692</td>\n",
       "      <td>neutral</td>\n",
       "    </tr>\n",
       "    <tr>\n",
       "      <th>8</th>\n",
       "      <td>2014-05-09</td>\n",
       "      <td>ITEM 2.  MANAGEMENT’S DISCUSSION AND ANALYSIS OF FINANCI...</td>\n",
       "      <td>12.150655</td>\n",
       "      <td>31.250000</td>\n",
       "      <td>neutral</td>\n",
       "    </tr>\n",
       "    <tr>\n",
       "      <th>9</th>\n",
       "      <td>2014-08-08</td>\n",
       "      <td>ITEM 2.  MANAGEMENT’S DISCUSSION AND ANALYSIS OF FINANCI...</td>\n",
       "      <td>16.541983</td>\n",
       "      <td>30.263158</td>\n",
       "      <td>neutral</td>\n",
       "    </tr>\n",
       "    <tr>\n",
       "      <th>10</th>\n",
       "      <td>2014-11-07</td>\n",
       "      <td>ITEM 2.  MANAGEMENT’S DISCUSSION AND ANALYSIS OF FINANCI...</td>\n",
       "      <td>16.013317</td>\n",
       "      <td>29.903537</td>\n",
       "      <td>neutral</td>\n",
       "    </tr>\n",
       "    <tr>\n",
       "      <th>11</th>\n",
       "      <td>2015-05-11</td>\n",
       "      <td>ITEM 2.  MANAGEMENT’S DISCUSSION AND ANALYSIS OF FINANCI...</td>\n",
       "      <td>15.965984</td>\n",
       "      <td>37.288136</td>\n",
       "      <td>positive</td>\n",
       "    </tr>\n",
       "    <tr>\n",
       "      <th>12</th>\n",
       "      <td>2015-11-05</td>\n",
       "      <td>ITEM 2.  MANAGEMENT’S DISCUSSION AND ANALYSIS OF FINANCI...</td>\n",
       "      <td>15.451318</td>\n",
       "      <td>34.158416</td>\n",
       "      <td>neutral</td>\n",
       "    </tr>\n",
       "    <tr>\n",
       "      <th>13</th>\n",
       "      <td>2016-05-10</td>\n",
       "      <td>ITEM 2.  MANAGEMENT’S DISCUSSION AND ANALYSIS OF FINANCI...</td>\n",
       "      <td>13.912653</td>\n",
       "      <td>32.417582</td>\n",
       "      <td>positive</td>\n",
       "    </tr>\n",
       "    <tr>\n",
       "      <th>14</th>\n",
       "      <td>2016-08-05</td>\n",
       "      <td>ITEM 2.  MANAGEMENT’S DISCUSSION AND ANALYSIS OF FINANCI...</td>\n",
       "      <td>15.335318</td>\n",
       "      <td>32.275132</td>\n",
       "      <td>neutral</td>\n",
       "    </tr>\n",
       "    <tr>\n",
       "      <th>15</th>\n",
       "      <td>2016-11-02</td>\n",
       "      <td>ITEM 2.  MANAGEMENT’S DISCUSSION AND ANALYSIS OF FINANCI...</td>\n",
       "      <td>12.534654</td>\n",
       "      <td>26.666667</td>\n",
       "      <td>neutral</td>\n",
       "    </tr>\n",
       "    <tr>\n",
       "      <th>16</th>\n",
       "      <td>2017-05-10</td>\n",
       "      <td>29          ITEM 2.  MANAGEMENT’S DISCUSSION AND ANALYSI...</td>\n",
       "      <td>21.681312</td>\n",
       "      <td>27.411168</td>\n",
       "      <td>positive</td>\n",
       "    </tr>\n",
       "    <tr>\n",
       "      <th>17</th>\n",
       "      <td>2018-05-07</td>\n",
       "      <td>32    ITEM 2. MANAGEMENT’S DISCUSSION AND ANALYSIS OF FI...</td>\n",
       "      <td>20.184646</td>\n",
       "      <td>26.130653</td>\n",
       "      <td>positive</td>\n",
       "    </tr>\n",
       "    <tr>\n",
       "      <th>18</th>\n",
       "      <td>2018-08-06</td>\n",
       "      <td>32    ITEM 2. MANAGEMENT’S DISCUSSION AND ANALYSIS OF FI...</td>\n",
       "      <td>22.799311</td>\n",
       "      <td>25.490196</td>\n",
       "      <td>positive</td>\n",
       "    </tr>\n",
       "    <tr>\n",
       "      <th>19</th>\n",
       "      <td>2018-11-02</td>\n",
       "      <td>35    ITEM 2. MANAGEMENT’S DISCUSSION AND ANALYSIS OF FI...</td>\n",
       "      <td>23.093977</td>\n",
       "      <td>23.674912</td>\n",
       "      <td>positive</td>\n",
       "    </tr>\n",
       "    <tr>\n",
       "      <th>20</th>\n",
       "      <td>2019-04-29</td>\n",
       "      <td>ITEM 2. MANAGEMENT’S DISCUSSION AND ANALYSIS OF FINANCIA...</td>\n",
       "      <td>16.097984</td>\n",
       "      <td>28.099174</td>\n",
       "      <td>positive</td>\n",
       "    </tr>\n",
       "  </tbody>\n",
       "</table>\n",
       "</div>"
      ],
      "text/plain": [
       "    FilingDate                                                      section  \\\n",
       "0   2011-05-13  ITEM 2.  MANAGEMENT’S DISCUSSION AND ANALYSIS OF FINANCI...   \n",
       "1   2011-08-12  ITEM 2.  MANAGEMENT’S DISCUSSION AND ANALYSIS OF FINANCI...   \n",
       "2   2011-11-14  19         Table of Contents    ITEM 2.     MANAGEMENT’S...   \n",
       "3   2012-05-10  ITEM 2.    MANAGEMENT’S DISCUSSION AND ANALYSIS OF FINAN...   \n",
       "4   2012-08-02  ITEM 2. MANAGEMENT’S DISCUSSION AND ANALYSIS OF FINANCIA...   \n",
       "5   2012-11-07  ITEM 2. MANAGEMENT’S DISCUSSION AND ANALYSIS OF FINANCIA...   \n",
       "6   2013-05-10  ITEM 2. MANAGEMENT’S DISCUSSION AND ANALYSIS OF FINANCIA...   \n",
       "7   2013-08-09  ITEM 2.  MANAGEMENT’S DISCUSSION AND ANALYSIS OF FINANCI...   \n",
       "8   2014-05-09  ITEM 2.  MANAGEMENT’S DISCUSSION AND ANALYSIS OF FINANCI...   \n",
       "9   2014-08-08  ITEM 2.  MANAGEMENT’S DISCUSSION AND ANALYSIS OF FINANCI...   \n",
       "10  2014-11-07  ITEM 2.  MANAGEMENT’S DISCUSSION AND ANALYSIS OF FINANCI...   \n",
       "11  2015-05-11  ITEM 2.  MANAGEMENT’S DISCUSSION AND ANALYSIS OF FINANCI...   \n",
       "12  2015-11-05  ITEM 2.  MANAGEMENT’S DISCUSSION AND ANALYSIS OF FINANCI...   \n",
       "13  2016-05-10  ITEM 2.  MANAGEMENT’S DISCUSSION AND ANALYSIS OF FINANCI...   \n",
       "14  2016-08-05  ITEM 2.  MANAGEMENT’S DISCUSSION AND ANALYSIS OF FINANCI...   \n",
       "15  2016-11-02  ITEM 2.  MANAGEMENT’S DISCUSSION AND ANALYSIS OF FINANCI...   \n",
       "16  2017-05-10  29          ITEM 2.  MANAGEMENT’S DISCUSSION AND ANALYSI...   \n",
       "17  2018-05-07  32    ITEM 2. MANAGEMENT’S DISCUSSION AND ANALYSIS OF FI...   \n",
       "18  2018-08-06  32    ITEM 2. MANAGEMENT’S DISCUSSION AND ANALYSIS OF FI...   \n",
       "19  2018-11-02  35    ITEM 2. MANAGEMENT’S DISCUSSION AND ANALYSIS OF FI...   \n",
       "20  2019-04-29  ITEM 2. MANAGEMENT’S DISCUSSION AND ANALYSIS OF FINANCIA...   \n",
       "\n",
       "        close    fls_pct fls_sentiment  \n",
       "0    1.836665  32.635983       neutral  \n",
       "1    1.753998  28.991597       neutral  \n",
       "2    2.214664  31.304348       neutral  \n",
       "3    2.197331  29.797980       neutral  \n",
       "4    1.739998  31.004367       neutral  \n",
       "5    2.102665  24.120603      positive  \n",
       "6    5.117595  27.461140      positive  \n",
       "7   10.199990  23.628692       neutral  \n",
       "8   12.150655  31.250000       neutral  \n",
       "9   16.541983  30.263158       neutral  \n",
       "10  16.013317  29.903537       neutral  \n",
       "11  15.965984  37.288136      positive  \n",
       "12  15.451318  34.158416       neutral  \n",
       "13  13.912653  32.417582      positive  \n",
       "14  15.335318  32.275132       neutral  \n",
       "15  12.534654  26.666667       neutral  \n",
       "16  21.681312  27.411168      positive  \n",
       "17  20.184646  26.130653      positive  \n",
       "18  22.799311  25.490196      positive  \n",
       "19  23.093977  23.674912      positive  \n",
       "20  16.097984  28.099174      positive  "
      ]
     },
     "execution_count": 22,
     "metadata": {},
     "output_type": "execute_result"
    }
   ],
   "source": [
    "# Display the evaluation results in a tabular format\n",
    "results"
   ]
  },
  {
   "cell_type": "markdown",
   "id": "9aa049ce-4caf-40ab-b12b-50d7e3a15364",
   "metadata": {},
   "source": [
    "Based on each filing, the above evaluation introduced 2 new columns:\n",
    "\n",
    "* fls_pct\n",
    " \n",
    " The percentage of sentences that are forward-looking statements.\n",
    " \n",
    "* fls_sentiment\n",
    "\n",
    " For the group of forward-looking statements, evaluate the overall sentiment.\n",
    " \n",
    "With our data in place, visualize the results:"
   ]
  },
  {
   "cell_type": "code",
   "execution_count": 24,
   "id": "31c2be06-a739-402e-9184-22d7ed76d7b3",
   "metadata": {},
   "outputs": [
    {
     "data": {
      "image/png": "[encoded data removed]",
      "text/plain": [
       "<Figure size 1224x576 with 2 Axes>"
      ]
     },
     "metadata": {},
     "output_type": "display_data"
    }
   ],
   "source": [
    "# Visualize the results\n",
    "plot(results['FilingDate'],\n",
    "      f\"Distribution of 10-Q filings for {organization}\",\n",
    "      '% of FLS sentences',\n",
    "      results['close'],\n",
    "      percent_fls=results['fls_pct'],\n",
    "      _=sentiment_bars(results['fls_sentiment']))"
   ]
  },
  {
   "cell_type": "markdown",
   "id": "399bf5b5-be1c-4b16-973a-2e47d4cc9449",
   "metadata": {},
   "source": [
    "The x-axis represents the dates of each of the 10-Q filings report captured.  On the left y-axis, we can see the percentage of sentences within the filings that are forward-looking statements and on the right y-axis we have plotted a simple closing price measure as a general indicator of performance over time.  Finally, we have plotted vertical bars along the x-axis to indicate our sentiment measures for the forward-looking statements.\n",
    "\n",
    "The important measure I want to focus on is the trend and measure of our forward-looking statements for each filing.  As I discussed in the opening, analysts predictions can be subjective, especially when reading text.  The above FLS percentage measure can be interpreted in a number of ways.  For example, if we have a low percentage of FLS statements, does that imply vague outlook? Does a relatively higher percentage of FLS statements indicate confidence?  How do these measures stack up to the stock performance based on the single closing price value?  As expected, it is likely too ambitious to expect a single factor, such as measuring text from a filings report, to provide sound future predictions. Finally, I included a sentiment score for each filing as a possible way to ingest additional analysis into the picture.  In general, all scores fall into the neutral or positive sphere.  As with price, the interpretation of this measure may not be enough to predict any specific outcome."
   ]
  },
  {
   "cell_type": "markdown",
   "id": "47cfec48-a6a4-4b45-8504-4396c428daaa",
   "metadata": {},
   "source": [
    "## Conclusion"
   ]
  },
  {
   "cell_type": "markdown",
   "id": "47edd38b-f9aa-40e3-a0be-d37d1916d278",
   "metadata": {},
   "source": [
    "What is the general takeaway from the above analysis?  I would suggest that the FLS measurements may provide some very interesting output that requires in-depth research.  While it is interesting to plot the performance of the stock and the general sentiment scores, neither of these basic measures appear to provide any correlation, especially if I attempt to analyze multiple companies.  However, that does not mean further research may not provide more interesting results.  For example, can we capture the time series of the stock over a 10-day period to measure the immediate effect of the filings release?  Possibly introducing a [vector autoregression](https://en.wikipedia.org/wiki/Vector_autoregression) statistical analysis may be an option that could possible unearth meaningful correlation."
   ]
  },
  {
   "cell_type": "code",
   "execution_count": null,
   "id": "bc4ef3a9-3974-47ee-97f1-18d5555e529d",
   "metadata": {},
   "outputs": [],
   "source": []
  }
 ],
 "metadata": {
  "kernelspec": {
   "display_name": "Python 3 (ipykernel)",
   "language": "python",
   "name": "python3"
  },
  "language_info": {
   "codemirror_mode": {
    "name": "ipython",
    "version": 3
   },
   "file_extension": ".py",
   "mimetype": "text/x-python",
   "name": "python",
   "nbconvert_exporter": "python",
   "pygments_lexer": "ipython3",
   "version": "3.10.8"
  }
 },
 "nbformat": 4,
 "nbformat_minor": 5
}
